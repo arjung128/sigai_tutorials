{
 "cells": [
  {
   "cell_type": "code",
   "execution_count": 1,
   "metadata": {},
   "outputs": [
    {
     "name": "stderr",
     "output_type": "stream",
     "text": [
      "/anaconda3/lib/python3.6/site-packages/h5py/__init__.py:34: FutureWarning: Conversion of the second argument of issubdtype from `float` to `np.floating` is deprecated. In future, it will be treated as `np.float64 == np.dtype(float).type`.\n",
      "  from ._conv import register_converters as _register_converters\n",
      "Using TensorFlow backend.\n"
     ]
    }
   ],
   "source": [
    "import numpy as np\n",
    "import keras\n",
    "from keras.models import Sequential\n",
    "from keras.layers import Dense\n",
    "from keras.backend import eval"
   ]
  },
  {
   "cell_type": "code",
   "execution_count": 2,
   "metadata": {
    "collapsed": true
   },
   "outputs": [],
   "source": [
    "# If under y = x, 0, else, 1.\n",
    "x_train = [[0.5, 3],\n",
    "           [1.4, 8],\n",
    "           [7, 3.6],\n",
    "           [34, 2],\n",
    "           [6, 6],\n",
    "           [2, 1.9],\n",
    "           [3.1, 3.7]]\n",
    "\n",
    "y_train = [[1],\n",
    "           [1],\n",
    "           [0],\n",
    "           [0],\n",
    "           [1],\n",
    "           [0],\n",
    "           [1]]\n",
    "\n",
    "# converting python lists to numpy arrays\n",
    "x_train = np.asarray(x_train)\n",
    "y_train = np.asarray(y_train)"
   ]
  },
  {
   "cell_type": "code",
   "execution_count": 5,
   "metadata": {},
   "outputs": [
    {
     "name": "stdout",
     "output_type": "stream",
     "text": [
      "Epoch 1/100\n",
      "7/7 [==============================] - 0s 43ms/step - loss: 0.3893 - acc: 0.5714\n",
      "Epoch 2/100\n",
      "7/7 [==============================] - 0s 962us/step - loss: 0.3892 - acc: 0.5714\n",
      "Epoch 3/100\n",
      "7/7 [==============================] - 0s 2ms/step - loss: 0.3892 - acc: 0.5714\n",
      "Epoch 4/100\n",
      "7/7 [==============================] - 0s 2ms/step - loss: 0.3891 - acc: 0.5714\n",
      "Epoch 5/100\n",
      "7/7 [==============================] - 0s 1ms/step - loss: 0.3890 - acc: 0.5714\n",
      "Epoch 6/100\n",
      "7/7 [==============================] - 0s 2ms/step - loss: 0.3889 - acc: 0.5714\n",
      "Epoch 7/100\n",
      "7/7 [==============================] - 0s 1ms/step - loss: 0.3889 - acc: 0.5714\n",
      "Epoch 8/100\n",
      "7/7 [==============================] - 0s 773us/step - loss: 0.3888 - acc: 0.5714\n",
      "Epoch 9/100\n",
      "7/7 [==============================] - 0s 693us/step - loss: 0.3887 - acc: 0.5714\n",
      "Epoch 10/100\n",
      "7/7 [==============================] - 0s 2ms/step - loss: 0.3886 - acc: 0.5714\n",
      "Epoch 11/100\n",
      "7/7 [==============================] - 0s 757us/step - loss: 0.3886 - acc: 0.5714\n",
      "Epoch 12/100\n",
      "7/7 [==============================] - 0s 835us/step - loss: 0.3885 - acc: 0.5714\n",
      "Epoch 13/100\n",
      "7/7 [==============================] - 0s 671us/step - loss: 0.3884 - acc: 0.5714\n",
      "Epoch 14/100\n",
      "7/7 [==============================] - 0s 1ms/step - loss: 0.3883 - acc: 0.5714\n",
      "Epoch 15/100\n",
      "7/7 [==============================] - 0s 758us/step - loss: 0.3883 - acc: 0.5714\n",
      "Epoch 16/100\n",
      "7/7 [==============================] - 0s 565us/step - loss: 0.3882 - acc: 0.5714\n",
      "Epoch 17/100\n",
      "7/7 [==============================] - 0s 2ms/step - loss: 0.3881 - acc: 0.5714\n",
      "Epoch 18/100\n",
      "7/7 [==============================] - 0s 480us/step - loss: 0.3880 - acc: 0.5714\n",
      "Epoch 19/100\n",
      "7/7 [==============================] - 0s 833us/step - loss: 0.3879 - acc: 0.5714\n",
      "Epoch 20/100\n",
      "7/7 [==============================] - 0s 1ms/step - loss: 0.3879 - acc: 0.5714\n",
      "Epoch 21/100\n",
      "7/7 [==============================] - 0s 585us/step - loss: 0.3878 - acc: 0.5714\n",
      "Epoch 22/100\n",
      "7/7 [==============================] - 0s 866us/step - loss: 0.3877 - acc: 0.5714\n",
      "Epoch 23/100\n",
      "7/7 [==============================] - 0s 1ms/step - loss: 0.3876 - acc: 0.5714\n",
      "Epoch 24/100\n",
      "7/7 [==============================] - 0s 910us/step - loss: 0.3875 - acc: 0.5714\n",
      "Epoch 25/100\n",
      "7/7 [==============================] - 0s 850us/step - loss: 0.3875 - acc: 0.5714\n",
      "Epoch 26/100\n",
      "7/7 [==============================] - 0s 1ms/step - loss: 0.3874 - acc: 0.5714\n",
      "Epoch 27/100\n",
      "7/7 [==============================] - 0s 3ms/step - loss: 0.3873 - acc: 0.5714\n",
      "Epoch 28/100\n",
      "7/7 [==============================] - 0s 985us/step - loss: 0.3872 - acc: 0.5714\n",
      "Epoch 29/100\n",
      "7/7 [==============================] - 0s 717us/step - loss: 0.3871 - acc: 0.5714\n",
      "Epoch 30/100\n",
      "7/7 [==============================] - 0s 1ms/step - loss: 0.3871 - acc: 0.5714\n",
      "Epoch 31/100\n",
      "7/7 [==============================] - 0s 519us/step - loss: 0.3870 - acc: 0.5714\n",
      "Epoch 32/100\n",
      "7/7 [==============================] - 0s 1ms/step - loss: 0.3869 - acc: 0.5714\n",
      "Epoch 33/100\n",
      "7/7 [==============================] - 0s 1ms/step - loss: 0.3868 - acc: 0.5714\n",
      "Epoch 34/100\n",
      "7/7 [==============================] - 0s 1ms/step - loss: 0.3867 - acc: 0.5714\n",
      "Epoch 35/100\n",
      "7/7 [==============================] - 0s 616us/step - loss: 0.3866 - acc: 0.5714\n",
      "Epoch 36/100\n",
      "7/7 [==============================] - 0s 572us/step - loss: 0.3866 - acc: 0.5714\n",
      "Epoch 37/100\n",
      "7/7 [==============================] - 0s 659us/step - loss: 0.3865 - acc: 0.5714\n",
      "Epoch 38/100\n",
      "7/7 [==============================] - 0s 782us/step - loss: 0.3864 - acc: 0.5714\n",
      "Epoch 39/100\n",
      "7/7 [==============================] - 0s 1ms/step - loss: 0.3863 - acc: 0.5714\n",
      "Epoch 40/100\n",
      "7/7 [==============================] - 0s 975us/step - loss: 0.3862 - acc: 0.5714\n",
      "Epoch 41/100\n",
      "7/7 [==============================] - 0s 871us/step - loss: 0.3861 - acc: 0.5714\n",
      "Epoch 42/100\n",
      "7/7 [==============================] - 0s 683us/step - loss: 0.3861 - acc: 0.5714\n",
      "Epoch 43/100\n",
      "7/7 [==============================] - 0s 1ms/step - loss: 0.3860 - acc: 0.5714\n",
      "Epoch 44/100\n",
      "7/7 [==============================] - 0s 975us/step - loss: 0.3859 - acc: 0.5714\n",
      "Epoch 45/100\n",
      "7/7 [==============================] - 0s 1ms/step - loss: 0.3858 - acc: 0.5714\n",
      "Epoch 46/100\n",
      "7/7 [==============================] - 0s 2ms/step - loss: 0.3857 - acc: 0.5714\n",
      "Epoch 47/100\n",
      "7/7 [==============================] - 0s 1ms/step - loss: 0.3856 - acc: 0.5714\n",
      "Epoch 48/100\n",
      "7/7 [==============================] - 0s 1ms/step - loss: 0.3855 - acc: 0.5714\n",
      "Epoch 49/100\n",
      "7/7 [==============================] - 0s 587us/step - loss: 0.3854 - acc: 0.5714\n",
      "Epoch 50/100\n",
      "7/7 [==============================] - 0s 2ms/step - loss: 0.3854 - acc: 0.5714\n",
      "Epoch 51/100\n",
      "7/7 [==============================] - 0s 2ms/step - loss: 0.3853 - acc: 0.5714\n",
      "Epoch 52/100\n",
      "7/7 [==============================] - 0s 663us/step - loss: 0.3852 - acc: 0.5714\n",
      "Epoch 53/100\n",
      "7/7 [==============================] - 0s 641us/step - loss: 0.3851 - acc: 0.5714\n",
      "Epoch 54/100\n",
      "7/7 [==============================] - 0s 481us/step - loss: 0.3850 - acc: 0.5714\n",
      "Epoch 55/100\n",
      "7/7 [==============================] - 0s 1ms/step - loss: 0.3849 - acc: 0.5714\n",
      "Epoch 56/100\n",
      "7/7 [==============================] - 0s 798us/step - loss: 0.3848 - acc: 0.5714\n",
      "Epoch 57/100\n",
      "7/7 [==============================] - 0s 866us/step - loss: 0.3847 - acc: 0.5714\n",
      "Epoch 58/100\n",
      "7/7 [==============================] - 0s 2ms/step - loss: 0.3846 - acc: 0.5714\n",
      "Epoch 59/100\n",
      "7/7 [==============================] - 0s 870us/step - loss: 0.3845 - acc: 0.5714\n",
      "Epoch 60/100\n",
      "7/7 [==============================] - 0s 710us/step - loss: 0.3844 - acc: 0.5714\n",
      "Epoch 61/100\n",
      "7/7 [==============================] - 0s 1ms/step - loss: 0.3844 - acc: 0.5714\n",
      "Epoch 62/100\n",
      "7/7 [==============================] - 0s 765us/step - loss: 0.3843 - acc: 0.5714\n",
      "Epoch 63/100\n",
      "7/7 [==============================] - 0s 806us/step - loss: 0.3842 - acc: 0.5714\n",
      "Epoch 64/100\n",
      "7/7 [==============================] - 0s 1ms/step - loss: 0.3841 - acc: 0.5714\n",
      "Epoch 65/100\n",
      "7/7 [==============================] - 0s 846us/step - loss: 0.3840 - acc: 0.5714\n",
      "Epoch 66/100\n",
      "7/7 [==============================] - 0s 996us/step - loss: 0.3839 - acc: 0.5714\n",
      "Epoch 67/100\n",
      "7/7 [==============================] - 0s 696us/step - loss: 0.3838 - acc: 0.5714\n",
      "Epoch 68/100\n",
      "7/7 [==============================] - 0s 1ms/step - loss: 0.3837 - acc: 0.5714\n",
      "Epoch 69/100\n",
      "7/7 [==============================] - 0s 843us/step - loss: 0.3836 - acc: 0.5714\n",
      "Epoch 70/100\n",
      "7/7 [==============================] - 0s 518us/step - loss: 0.3835 - acc: 0.5714\n",
      "Epoch 71/100\n",
      "7/7 [==============================] - 0s 958us/step - loss: 0.3834 - acc: 0.5714\n",
      "Epoch 72/100\n",
      "7/7 [==============================] - 0s 530us/step - loss: 0.3833 - acc: 0.5714\n",
      "Epoch 73/100\n",
      "7/7 [==============================] - 0s 1ms/step - loss: 0.3832 - acc: 0.5714\n",
      "Epoch 74/100\n",
      "7/7 [==============================] - 0s 1ms/step - loss: 0.3831 - acc: 0.5714\n",
      "Epoch 75/100\n",
      "7/7 [==============================] - 0s 1ms/step - loss: 0.3830 - acc: 0.5714\n",
      "Epoch 76/100\n",
      "7/7 [==============================] - 0s 2ms/step - loss: 0.3829 - acc: 0.5714\n",
      "Epoch 77/100\n",
      "7/7 [==============================] - 0s 939us/step - loss: 0.3828 - acc: 0.5714\n",
      "Epoch 78/100\n",
      "7/7 [==============================] - 0s 998us/step - loss: 0.3827 - acc: 0.5714\n",
      "Epoch 79/100\n",
      "7/7 [==============================] - 0s 2ms/step - loss: 0.3826 - acc: 0.5714\n",
      "Epoch 80/100\n",
      "7/7 [==============================] - 0s 901us/step - loss: 0.3825 - acc: 0.5714\n",
      "Epoch 81/100\n",
      "7/7 [==============================] - 0s 2ms/step - loss: 0.3824 - acc: 0.5714\n",
      "Epoch 82/100\n",
      "7/7 [==============================] - 0s 2ms/step - loss: 0.3823 - acc: 0.5714\n",
      "Epoch 83/100\n",
      "7/7 [==============================] - 0s 565us/step - loss: 0.3822 - acc: 0.5714\n",
      "Epoch 84/100\n",
      "7/7 [==============================] - 0s 657us/step - loss: 0.3821 - acc: 0.5714\n",
      "Epoch 85/100\n",
      "7/7 [==============================] - 0s 900us/step - loss: 0.3820 - acc: 0.5714\n",
      "Epoch 86/100\n",
      "7/7 [==============================] - 0s 879us/step - loss: 0.3819 - acc: 0.5714\n",
      "Epoch 87/100\n",
      "7/7 [==============================] - 0s 657us/step - loss: 0.3818 - acc: 0.5714\n",
      "Epoch 88/100\n",
      "7/7 [==============================] - 0s 658us/step - loss: 0.3817 - acc: 0.5714\n"
     ]
    },
    {
     "name": "stdout",
     "output_type": "stream",
     "text": [
      "Epoch 89/100\n",
      "7/7 [==============================] - 0s 605us/step - loss: 0.3816 - acc: 0.5714\n",
      "Epoch 90/100\n",
      "7/7 [==============================] - 0s 604us/step - loss: 0.3814 - acc: 0.5714\n",
      "Epoch 91/100\n",
      "7/7 [==============================] - 0s 507us/step - loss: 0.3813 - acc: 0.5714\n",
      "Epoch 92/100\n",
      "7/7 [==============================] - 0s 871us/step - loss: 0.3812 - acc: 0.5714\n",
      "Epoch 93/100\n",
      "7/7 [==============================] - 0s 490us/step - loss: 0.3811 - acc: 0.5714\n",
      "Epoch 94/100\n",
      "7/7 [==============================] - 0s 699us/step - loss: 0.3810 - acc: 0.5714\n",
      "Epoch 95/100\n",
      "7/7 [==============================] - 0s 1ms/step - loss: 0.3809 - acc: 0.5714\n",
      "Epoch 96/100\n",
      "7/7 [==============================] - 0s 758us/step - loss: 0.3808 - acc: 0.5714\n",
      "Epoch 97/100\n",
      "7/7 [==============================] - 0s 643us/step - loss: 0.3807 - acc: 0.5714\n",
      "Epoch 98/100\n",
      "7/7 [==============================] - 0s 627us/step - loss: 0.3806 - acc: 0.5714\n",
      "Epoch 99/100\n",
      "7/7 [==============================] - 0s 991us/step - loss: 0.3804 - acc: 0.5714\n",
      "Epoch 100/100\n",
      "7/7 [==============================] - 0s 807us/step - loss: 0.3803 - acc: 0.5714\n"
     ]
    },
    {
     "data": {
      "text/plain": [
       "<keras.callbacks.History at 0x10c502550>"
      ]
     },
     "execution_count": 5,
     "metadata": {},
     "output_type": "execute_result"
    }
   ],
   "source": [
    "# define our model\n",
    "model = Sequential()\n",
    "model.add(Dense(units=1, activation='sigmoid', input_dim=2))\n",
    "model.compile(optimizer='sgd', loss='mse', metrics=['accuracy'])\n",
    "model.fit(x_train, y_train, epochs=100)"
   ]
  },
  {
   "cell_type": "code",
   "execution_count": 4,
   "metadata": {},
   "outputs": [
    {
     "name": "stdout",
     "output_type": "stream",
     "text": [
      "0.01\n"
     ]
    }
   ],
   "source": [
    "# learning rate\n",
    "print(eval(model.optimizer.lr))"
   ]
  },
  {
   "cell_type": "code",
   "execution_count": 7,
   "metadata": {},
   "outputs": [
    {
     "data": {
      "text/plain": [
       "array([[0.7125621]], dtype=float32)"
      ]
     },
     "execution_count": 7,
     "metadata": {},
     "output_type": "execute_result"
    }
   ],
   "source": [
    "# test our model\n",
    "x_test = [[1, 2]]\n",
    "x_test = np.asarray(x_test)\n",
    "model.predict(x_test)"
   ]
  },
  {
   "cell_type": "code",
   "execution_count": 8,
   "metadata": {},
   "outputs": [
    {
     "name": "stdout",
     "output_type": "stream",
     "text": [
      "[0.40881178]\n",
      "[0.26115075]\n",
      "-0.023253072\n"
     ]
    }
   ],
   "source": [
    "# see the learned weights\n",
    "w1 = model.get_weights()[0][0]\n",
    "print(w1)\n",
    "w2 = model.get_weights()[0][1]\n",
    "print(w2)\n",
    "b = model.get_weights()[1][0]\n",
    "print(b)"
   ]
  }
 ],
 "metadata": {
  "kernelspec": {
   "display_name": "Python 3",
   "language": "python",
   "name": "python3"
  },
  "language_info": {
   "codemirror_mode": {
    "name": "ipython",
    "version": 3
   },
   "file_extension": ".py",
   "mimetype": "text/x-python",
   "name": "python",
   "nbconvert_exporter": "python",
   "pygments_lexer": "ipython3",
   "version": "3.6.3"
  }
 },
 "nbformat": 4,
 "nbformat_minor": 2
}
